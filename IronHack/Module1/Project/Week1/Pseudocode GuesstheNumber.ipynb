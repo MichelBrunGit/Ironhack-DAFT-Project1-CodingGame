{
 "cells": [
  {
   "cell_type": "code",
   "execution_count": null,
   "id": "80249a5e",
   "metadata": {},
   "outputs": [],
   "source": [
    "# import random\n",
    "    #The gamer  will choose any random number between 1 to 100. Then the user will try to guess the right number.\n",
    "# we will start with variable win with False/True value \n",
    "# we will put the variable Turns, that will have a 0 value  in the beginin.\n",
    "#in this type of game we must creat a While loop.\n",
    "# we put a input = (\"enter a number betwwen 1 and 100\")\n",
    "# so the loop start from 1 \n",
    "   #if random_number equal to intager puted by the gamer\n",
    "   #we will print \"you won\"\n",
    "   #if random number > the turns \n",
    "    #python will print \"you lose, inter a bigger number\" \n",
    "    #and they will \"print inter a bigger number\""
   ]
  }
 ],
 "metadata": {
  "kernelspec": {
   "display_name": "Python 3",
   "language": "python",
   "name": "python3"
  },
  "language_info": {
   "codemirror_mode": {
    "name": "ipython",
    "version": 3
   },
   "file_extension": ".py",
   "mimetype": "text/x-python",
   "name": "python",
   "nbconvert_exporter": "python",
   "pygments_lexer": "ipython3",
   "version": "3.8.8"
  }
 },
 "nbformat": 4,
 "nbformat_minor": 5
}
