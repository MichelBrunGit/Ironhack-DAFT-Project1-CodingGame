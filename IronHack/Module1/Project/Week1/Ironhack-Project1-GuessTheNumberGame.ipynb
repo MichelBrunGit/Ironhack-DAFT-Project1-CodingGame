#import random at first
import random
import re
#define the guess number between 1 and 100

#function that returns a random integer between a and b number
def rand(a,b):
    return random.randint(1, 100)

#define the guess number between 1 and 100
number = rand(1, 100)

print(" --- Welcome to Guess The Number ---\n - Your goal is to guess a number ! -\n     Enter STOP to stop the Game")
#define number of guesses 
number_of_guesses = 0


while number_of_guesses < 11:
    guess = input(('Enter your guess between 1 and 100: '))
    #check if the player enter STOP
    if guess.lower()=="stop":
        print('You decide to STOP the game, The number was ' + str(number))
        break
    #check if it's a number with 1 to 3 digits    
    elif bool(re.search(r'\d{1,3}', guess))==True:
        guess=int(guess) #convert into an integer since it is a number
        if guess in range(1,101): #check it is a number between 1 and 100
            number_of_guesses += 1
        #if the guess is lower than random guess number
            if guess < number:
                print('Your guess is too low.')
        #if the guess is greater than random guess number 
            if guess > number:
                print('Your guess is too high')
        #if the guess is equal to random guess number
            if guess == number:
                print('YOU WON ! \nYou guessed the number in ' + str(number_of_guesses) + ' tries!')
                break
        else:
            print('Your guess is not between 1 and 100.\nPlease try again')
    else:
        print('Your guess is invalid. Please try again')
else:
    print('You did not guess the number, The number was ' + str(number))
     #if we did'nt make the right choise in X attempts, we reveal the random guess number
