{
 "cells": [
  {
   "cell_type": "code",
   "execution_count": 1,
   "id": "0881ff7e",
   "metadata": {},
   "outputs": [
    {
     "name": "stdout",
     "output_type": "stream",
     "text": [
      " --- Welcome to Guess The Number ---\n",
      " - Your goal is to guess a number ! -\n",
      "     Enter STOP to stop the Game\n",
      "Enter your guess between 1 and 100: 45\n",
      "Your guess is too low.\n",
      "Enter your guess between 1 and 100: 109\n",
      "Your guess is not between 1 and 100.\n",
      "Please try again\n",
      "Enter your guess between 1 and 100: stop\n",
      "You decide to STOP the game, The number was 77\n"
     ]
    }
   ],
   "source": [
    "#import random at first\n",
    "import random\n",
    "import re\n",
    "#define the guess number between 1 and 100\n",
    "number = random.randint(1, 100)\n",
    "print(\" --- Welcome to Guess The Number ---\\n - Your goal is to guess a number ! -\\n     Enter STOP to stop the Game\")\n",
    "#define number of guesses \n",
    "number_of_guesses = 0\n",
    "\n",
    "while number_of_guesses < 11:\n",
    "    guess = input(('Enter your guess between 1 and 100: '))\n",
    "    #check if the player enter STOP\n",
    "    if guess.lower()==\"stop\":\n",
    "        print('You decide to STOP the game, The number was ' + str(number))\n",
    "        break\n",
    "    #check if it's a number with 1 to 3 digits    \n",
    "    elif bool(re.search(r'\\d{1,3}', guess))==True:\n",
    "        guess=int(guess) #convert into an integer since it is a number\n",
    "        if guess in range(1,101): #check it is a number between 1 and 100\n",
    "            number_of_guesses += 1\n",
    "        #if the guess is lower than random guess number\n",
    "            if guess < number:\n",
    "                print('Your guess is too low.')\n",
    "        #if the guess is greater than random guess number \n",
    "            if guess > number:\n",
    "                print('Your guess is too high')\n",
    "        #if the guess is equal to random guess number\n",
    "            if guess == number:\n",
    "                print('YOU WON ! \\nYou guessed the number in ' + str(number_of_guesses) + ' tries!')\n",
    "                break\n",
    "        else:\n",
    "            print('Your guess is not between 1 and 100.\\nPlease try again')\n",
    "    else:\n",
    "        print('Your guess is invalid. Please try again')\n",
    "else:\n",
    "    print('You did not guess the number, The number was ' + str(number))\n",
    "     #if we did'nt make the right choise in X attempts, we reveal the random guess number"
   ]
  },
  {
   "cell_type": "code",
   "execution_count": null,
   "id": "bce77967",
   "metadata": {},
   "outputs": [],
   "source": []
  }
 ],
 "metadata": {
  "kernelspec": {
   "display_name": "Python 3",
   "language": "python",
   "name": "python3"
  },
  "language_info": {
   "codemirror_mode": {
    "name": "ipython",
    "version": 3
   },
   "file_extension": ".py",
   "mimetype": "text/x-python",
   "name": "python",
   "nbconvert_exporter": "python",
   "pygments_lexer": "ipython3",
   "version": "3.8.8"
  }
 },
 "nbformat": 4,
 "nbformat_minor": 5
}
