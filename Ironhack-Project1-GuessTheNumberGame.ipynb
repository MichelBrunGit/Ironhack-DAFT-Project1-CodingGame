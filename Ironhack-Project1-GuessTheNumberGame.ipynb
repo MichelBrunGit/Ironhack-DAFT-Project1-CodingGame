{
 "cells": [
  {
   "cell_type": "code",
   "execution_count": 2,
   "id": "78baf8bb",
   "metadata": {},
   "outputs": [
    {
     "name": "stdout",
     "output_type": "stream",
     "text": [
      " --- Welcome to Guess The Number ---\n",
      " - Your goal is to guess a number ! -\n",
      "     Enter STOP to stop the Game\n",
      "Your guess is too low.\n",
      "Your guess is too low.\n",
      "Your guess is too low.\n",
      "Your guess is too low.\n",
      "Your guess is too low.\n",
      "Your guess is too low.\n",
      "Your guess is invalid. Please try again\n",
      "Your guess is invalid. Please try again\n",
      "Your guess is invalid. Please try again\n",
      "You decide to STOP the game, The number was 64\n"
     ]
    }
   ],
   "source": [
    "#import random at first\n",
    "import random\n",
    "import re\n",
    "#define the guess number between 1 and 100\n",
    "\n",
    "#function that returns a random integer between a and b number\n",
    "def rand(a,b):\n",
    "    return random.randint(1, 100)\n",
    "\n",
    "#define the guess number between 1 and 100\n",
    "number = rand(1, 100)\n",
    "\n",
    "print(\" --- Welcome to Guess The Number ---\\n - Your goal is to guess a number ! -\\n     Enter STOP to stop the Game\")\n",
    "#define number of guesses \n",
    "number_of_guesses = 0\n",
    "\n",
    "\n",
    "while number_of_guesses < 10:\n",
    "    guess = input(('Enter your guess between 1 and 100: '))\n",
    "    #check if the player enter STOP\n",
    "    if guess.lower()==\"stop\":\n",
    "        print('You decide to STOP the game, The number was ' + str(number))\n",
    "        break\n",
    "    #check if it's a number with 1 to 3 digits    \n",
    "    elif guess.isdigit()==True:\n",
    "        guess=int(guess) #convert into an integer since it is a number\n",
    "        if guess in range(1,101): #check it is a number between 1 and 100\n",
    "            number_of_guesses += 1\n",
    "        #if the guess is lower than random guess number\n",
    "            if guess < number:\n",
    "                print('Your guess is too low.')\n",
    "        #if the guess is greater than random guess number \n",
    "            if guess > number:\n",
    "                print('Your guess is too high')\n",
    "        #if the guess is equal to random guess number\n",
    "            if guess == number:\n",
    "                print('YOU WON ! \\nYou guessed the number in ' + str(number_of_guesses) + ' tries!')\n",
    "                break\n",
    "        else:\n",
    "            print('Your guess is not between 1 and 100.\\nPlease try again')\n",
    "    else:\n",
    "        print('Your guess is invalid. Please try again')\n",
    "else:\n",
    "    print('You did not guess the number, The number was ' + str(number))\n",
    "     #if we did'nt make the right choise in X attempts, we reveal the random guess number"
   ]
  },
  {
   "cell_type": "code",
   "execution_count": null,
   "id": "5e4ec73c",
   "metadata": {},
   "outputs": [],
   "source": []
  }
 ],
 "metadata": {
  "interpreter": {
   "hash": "69ebb15b1d8ae106307a4fe231c69c3c364934a218e8bb93dd7faf625adaaa89"
  },
  "kernelspec": {
   "display_name": "Python 3.8.8 64-bit ('base': conda)",
   "name": "python3"
  },
  "language_info": {
   "codemirror_mode": {
    "name": "ipython",
    "version": 3
   },
   "file_extension": ".py",
   "mimetype": "text/x-python",
   "name": "python",
   "nbconvert_exporter": "python",
   "pygments_lexer": "ipython3",
   "version": "3.8.8"
  }
 },
 "nbformat": 4,
 "nbformat_minor": 5
}
